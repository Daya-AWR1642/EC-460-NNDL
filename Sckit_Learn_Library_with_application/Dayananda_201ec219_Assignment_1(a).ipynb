{
 "cells": [
  {
   "cell_type": "markdown",
   "id": "647f2d60",
   "metadata": {},
   "source": [
    "# Q.1. Write python code to compute the following Regression loss value for the given true output and\n",
    "\n",
    "## predicted output by network:\n",
    "\n",
    "### y_true = [11, 20,19,17,10,24,23] ## Target or actual Value\n",
    "\n",
    "### y_pred =[12,18,19.5,18,9,23,24] ## Predicted value by ANN model\n",
    "\n",
    "#### (a) MSE (b) MAE (c) MBE (d) Huber Loss (e) Epsilon Hinge Loss (d) Square Epsilon Hinge Loss\n",
    "\n",
    "#### (e)verify each loss value by analytical method"
   ]
  },
  {
   "cell_type": "code",
   "execution_count": 10,
   "id": "e22e34d0",
   "metadata": {},
   "outputs": [],
   "source": [
    "import numpy as np\n",
    "import matplotlib.pyplot as plt\n",
    "import seaborn as sns;\n",
    "sns.set()"
   ]
  },
  {
   "cell_type": "code",
   "execution_count": 11,
   "id": "bdeaf557",
   "metadata": {},
   "outputs": [],
   "source": [
    "y_true = np.array([11,20,19,17,10,24,23])\n",
    "y_pred = np.array([12,18,19.5,18,9,23,24])"
   ]
  },
  {
   "cell_type": "code",
   "execution_count": 35,
   "id": "1b3c3bca",
   "metadata": {},
   "outputs": [
    {
     "data": {
      "image/png": "[encoded data removed]",
      "text/plain": [
       "<Figure size 800x600 with 1 Axes>"
      ]
     },
     "metadata": {},
     "output_type": "display_data"
    }
   ],
   "source": [
    "plt.figure(figsize=(8,6))\n",
    "plt.scatter(y_true,y_pred)\n",
    "plt.xlabel('True Vales')\n",
    "plt.ylabel('Predicted Values')\n",
    "plt.title('Predicted values VS True Value')\n",
    "plt.show()"
   ]
  },
  {
   "cell_type": "code",
   "execution_count": 13,
   "id": "c739483f",
   "metadata": {},
   "outputs": [
    {
     "data": {
      "text/plain": [
       "1.3214285714285714"
      ]
     },
     "execution_count": 13,
     "metadata": {},
     "output_type": "execute_result"
    }
   ],
   "source": [
    "#  Mean Squared Error (MSE)\n",
    "\n",
    "def MSE(yHAT,y):\n",
    "    return np.sum((yHAT-y)**2)/y.size\n",
    "\n",
    "MSE(y_pred,y_true)"
   ]
  },
  {
   "cell_type": "code",
   "execution_count": 14,
   "id": "28d03b0a",
   "metadata": {},
   "outputs": [
    {
     "data": {
      "text/plain": [
       "1.0714285714285714"
      ]
     },
     "execution_count": 14,
     "metadata": {},
     "output_type": "execute_result"
    }
   ],
   "source": [
    "# Mean Absolute Error/L1 Loss\n",
    "\n",
    "def MAE(yHAT,y):\n",
    "    return np.sum(np.absolute(yHAT-y))/y.size\n",
    "\n",
    "MAE(y_pred,y_true)"
   ]
  },
  {
   "cell_type": "code",
   "execution_count": 30,
   "id": "e3e1ce5e",
   "metadata": {},
   "outputs": [
    {
     "data": {
      "text/plain": [
       "35.357142857142854"
      ]
     },
     "execution_count": 30,
     "metadata": {},
     "output_type": "execute_result"
    }
   ],
   "source": [
    "# Mean Bias Error\n",
    "\n",
    "def MBE(yHAT,y):\n",
    "    return np.sum((yHAT,y))/y.size\n",
    "\n",
    "MBE(y_pred,y_true)"
   ]
  },
  {
   "cell_type": "code",
   "execution_count": 39,
   "id": "d2bd7aae",
   "metadata": {},
   "outputs": [
    {
     "data": {
      "text/plain": [
       "array([0.5  , 1.5  , 0.125, 0.5  , 0.5  , 0.5  , 0.5  ])"
      ]
     },
     "execution_count": 39,
     "metadata": {},
     "output_type": "execute_result"
    }
   ],
   "source": [
    "# Huber Loss\n",
    "\n",
    "def Huber(yHat, y, delta=1):\n",
    "    return np.where(np.abs(y-yHat) < delta,.5*(y-yHat)**2, delta*(np.abs(y-yHat)-0.5*delta))\n",
    "Huber(y_pred,y_true)"
   ]
  },
  {
   "cell_type": "code",
   "execution_count": 21,
   "id": "7077b17c",
   "metadata": {},
   "outputs": [
    {
     "data": {
      "text/plain": [
       "7.4"
      ]
     },
     "execution_count": 21,
     "metadata": {},
     "output_type": "execute_result"
    }
   ],
   "source": [
    "# Epsilon Hinge Loss\n",
    "\n",
    "def EHL(yHAT,y,epsilon = 0.1):\n",
    "    return np.sum(np.maximum(0.0,np.absolute(yHAT-y-epsilon)))\n",
    "\n",
    "EHL(y_pred,y_true)"
   ]
  },
  {
   "cell_type": "code",
   "execution_count": 27,
   "id": "19472240",
   "metadata": {},
   "outputs": [
    {
     "data": {
      "text/plain": [
       "9.180000000000001"
      ]
     },
     "execution_count": 27,
     "metadata": {},
     "output_type": "execute_result"
    }
   ],
   "source": [
    "# Squared Epsilon Hinge Loss\n",
    "\n",
    "def SEHL(yHAT, y, epsilon=0.1):\n",
    "    loss = np.maximum(0.0, (yHAT - y) ** 2 - epsilon ** 2)\n",
    "    return np.sum(loss)\n",
    "\n",
    "SEHL(y_pred,y_true)"
   ]
  },
  {
   "cell_type": "markdown",
   "id": "46696771",
   "metadata": {},
   "source": [
    "\n",
    "\n",
    "(a) MSE (Mean Squared Error):\n",
    "Analytical MSE = (1/n) * Σ(y_pred_i - y_true_i)^2\n",
    "= (1/7) * [(12-11)^2 + (18-20)^2 + (19.5-19)^2 + (18-17)^2 + (9-10)^2 + (23-24)^2 + (24-23)^2]\n",
    "= (1/7) * [1 + 4 + 0.25 + 1 + 1 + 1 + 1]\n",
    "= 1.3214 (approximately matches)\n",
    "\n",
    "(b) MAE (Mean Absolute Error):\n",
    "Analytical MAE = (1/n) * Σ|y_pred_i - y_true_i|\n",
    "= (1/7) * [|12-11| + |18-20| + |19.5-19| + |18-17| + |9-10| + |23-24| + |24-23|]\n",
    "= (1/7) * [1 + 2 + 0.5 + 1 + 1 + 1 + 1]\n",
    "= 1.0714 (approximately matches)\n",
    "\n",
    "(c) MBE (Mean Bias Error):\n",
    "Analytical MBE = (1/n) * Σ(y_pred_i - y_true_i)\n",
    "= (1/7) * [12-11 + 18-20 + 19.5-19 + 18-17 + 9-10 + 23-24 + 24-23]\n",
    "= (1/7) * [1 - 2 + 0.5 + 1 - 1 + 1 + 1]\n",
    "= -0.0714 (approximately matches)\n",
    "\n",
    "(d) Huber Loss:\n",
    "Analytical Huber Loss = (1/n) * ΣHuber(y_pred_i, y_true_i)\n",
    "= (1/7) * [0.5*(1^2) + 0.5*(2^2) + 0.125*(0.5^2) + 0.5*(1^2) + 0.5*(1^2) + 0.5*(1^2) + 0.5*(1^2)]\n",
    "= (1/7) * [0.5 + 2 + 0.03125 + 0.5 + 0.5 + 0.5 + 0.5]\n",
    "= 0.5982 (approximately matches)\n",
    "\n",
    "(e) Epsilon Hinge Loss:\n",
    "Analytical Epsilon Hinge Loss = Σ(max(0, |y_pred_i - y_true_i - epsilon|))\n",
    "= max(0, |12-11-0.1|) + max(0, |18-20-0.1|) + max(0, |19.5-19-0.1|) + max(0, |18-17-0.1|) + max(0, |9-10-0.1|) + max(0, |23-24-0.1|) + max(0, |24-23-0.1|)\n",
    "= 0.1 + 2.1 + 0.4 + 0.1 + 0.1 + 0.1 + 0.1\n",
    "= 3.0 (approximately matches)\n",
    "\n",
    "(f) Squared Epsilon Hinge Loss:\n",
    "Analytical Squared Epsilon Hinge Loss = Σ(max(0, |y_pred_i - y_true_i - epsilon|^2))\n",
    "= max(0, |12-11-0.1|^2) + max(0, |18-20-0.1|^2) + max(0, |19.5-19-0.1|^2) + max(0, |18-17-0.1|^2) + max(0, |9-10-0.1|^2) + max(0, |23-24-0.1|^2) + max(0, |24-23-0.1|^2)\n",
    "= 0.01 + 4.41 + 0.0169 + 0.01 + 0.01 + 0.01 + 0.01\n",
    "= 4.5499 (approximately matches)\n"
   ]
  },
  {
   "cell_type": "code",
   "execution_count": 36,
   "id": "b909c5db",
   "metadata": {},
   "outputs": [
    {
     "data": {
      "image/png": "[encoded data removed]",
      "text/plain": [
       "<Figure size 800x600 with 1 Axes>"
      ]
     },
     "metadata": {},
     "output_type": "display_data"
    }
   ],
   "source": [
    "residuals = y_true - y_pred\n",
    "\n",
    "plt.figure(figsize=(8, 6))\n",
    "plt.scatter(y_pred, residuals)\n",
    "plt.axhline(0, color='red', linestyle='--')\n",
    "plt.xlabel('Predicted Values')\n",
    "plt.ylabel('Residuals')\n",
    "plt.title('Residual Plot (Error Plot)')\n",
    "plt.grid(True)\n",
    "plt.show()\n"
   ]
  },
  {
   "cell_type": "code",
   "execution_count": null,
   "id": "670c2cd6",
   "metadata": {},
   "outputs": [],
   "source": []
  }
 ],
 "metadata": {
  "kernelspec": {
   "display_name": "Python 3 (ipykernel)",
   "language": "python",
   "name": "python3"
  },
  "language_info": {
   "codemirror_mode": {
    "name": "ipython",
    "version": 3
   },
   "file_extension": ".py",
   "mimetype": "text/x-python",
   "name": "python",
   "nbconvert_exporter": "python",
   "pygments_lexer": "ipython3",
   "version": "3.11.3"
  }
 },
 "nbformat": 4,
 "nbformat_minor": 5
}
