{
 "cells": [
  {
   "cell_type": "markdown",
   "id": "3c8de47a",
   "metadata": {},
   "source": [
    "#### reason for late sunbission:\n",
    "##### after converting to data frame I was trying to access it's index instead from array\n",
    "##### that caused too much time consume in debuging\n",
    "##### sorry sir\n"
   ]
  },
  {
   "cell_type": "code",
   "execution_count": 38,
   "id": "289446ac",
   "metadata": {},
   "outputs": [],
   "source": [
    "import numpy as np\n",
    "import pandas as pd\n",
    "import seaborn as sns\n",
    "sns.set()\n",
    "import matplotlib.pyplot as plt"
   ]
  },
  {
   "cell_type": "code",
   "execution_count": 2,
   "id": "16d288f3",
   "metadata": {},
   "outputs": [
    {
     "data": {
      "text/html": [
       "<div>\n",
       "<style scoped>\n",
       "    .dataframe tbody tr th:only-of-type {\n",
       "        vertical-align: middle;\n",
       "    }\n",
       "\n",
       "    .dataframe tbody tr th {\n",
       "        vertical-align: top;\n",
       "    }\n",
       "\n",
       "    .dataframe thead th {\n",
       "        text-align: right;\n",
       "    }\n",
       "</style>\n",
       "<table border=\"1\" class=\"dataframe\">\n",
       "  <thead>\n",
       "    <tr style=\"text-align: right;\">\n",
       "      <th></th>\n",
       "      <th>y_Pred</th>\n",
       "    </tr>\n",
       "  </thead>\n",
       "  <tbody>\n",
       "    <tr>\n",
       "      <th>0</th>\n",
       "      <td>0.99</td>\n",
       "    </tr>\n",
       "    <tr>\n",
       "      <th>1</th>\n",
       "      <td>0.00</td>\n",
       "    </tr>\n",
       "    <tr>\n",
       "      <th>2</th>\n",
       "      <td>0.00</td>\n",
       "    </tr>\n",
       "    <tr>\n",
       "      <th>3</th>\n",
       "      <td>0.99</td>\n",
       "    </tr>\n",
       "    <tr>\n",
       "      <th>4</th>\n",
       "      <td>0.00</td>\n",
       "    </tr>\n",
       "    <tr>\n",
       "      <th>5</th>\n",
       "      <td>0.00</td>\n",
       "    </tr>\n",
       "    <tr>\n",
       "      <th>6</th>\n",
       "      <td>0.99</td>\n",
       "    </tr>\n",
       "    <tr>\n",
       "      <th>7</th>\n",
       "      <td>0.99</td>\n",
       "    </tr>\n",
       "    <tr>\n",
       "      <th>8</th>\n",
       "      <td>0.99</td>\n",
       "    </tr>\n",
       "    <tr>\n",
       "      <th>9</th>\n",
       "      <td>0.00</td>\n",
       "    </tr>\n",
       "    <tr>\n",
       "      <th>10</th>\n",
       "      <td>0.99</td>\n",
       "    </tr>\n",
       "    <tr>\n",
       "      <th>11</th>\n",
       "      <td>0.99</td>\n",
       "    </tr>\n",
       "    <tr>\n",
       "      <th>12</th>\n",
       "      <td>0.00</td>\n",
       "    </tr>\n",
       "    <tr>\n",
       "      <th>13</th>\n",
       "      <td>0.99</td>\n",
       "    </tr>\n",
       "    <tr>\n",
       "      <th>14</th>\n",
       "      <td>0.99</td>\n",
       "    </tr>\n",
       "  </tbody>\n",
       "</table>\n",
       "</div>"
      ],
      "text/plain": [
       "    y_Pred\n",
       "0     0.99\n",
       "1     0.00\n",
       "2     0.00\n",
       "3     0.99\n",
       "4     0.00\n",
       "5     0.00\n",
       "6     0.99\n",
       "7     0.99\n",
       "8     0.99\n",
       "9     0.00\n",
       "10    0.99\n",
       "11    0.99\n",
       "12    0.00\n",
       "13    0.99\n",
       "14    0.99"
      ]
     },
     "execution_count": 2,
     "metadata": {},
     "output_type": "execute_result"
    }
   ],
   "source": [
    "y_pred1 = np.array([0.99,0,0,0.99,0,0,0.99,0.99,0.99,0,0.99,0.99,0,0.99,0.99])\n",
    "y_pred = pd.DataFrame(y_pred1,columns=[\"y_Pred\"])\n",
    "y_pred"
   ]
  },
  {
   "cell_type": "code",
   "execution_count": 3,
   "id": "d7874c24",
   "metadata": {},
   "outputs": [
    {
     "data": {
      "text/html": [
       "<div>\n",
       "<style scoped>\n",
       "    .dataframe tbody tr th:only-of-type {\n",
       "        vertical-align: middle;\n",
       "    }\n",
       "\n",
       "    .dataframe tbody tr th {\n",
       "        vertical-align: top;\n",
       "    }\n",
       "\n",
       "    .dataframe thead th {\n",
       "        text-align: right;\n",
       "    }\n",
       "</style>\n",
       "<table border=\"1\" class=\"dataframe\">\n",
       "  <thead>\n",
       "    <tr style=\"text-align: right;\">\n",
       "      <th></th>\n",
       "      <th>y_true</th>\n",
       "    </tr>\n",
       "  </thead>\n",
       "  <tbody>\n",
       "    <tr>\n",
       "      <th>0</th>\n",
       "      <td>1</td>\n",
       "    </tr>\n",
       "    <tr>\n",
       "      <th>1</th>\n",
       "      <td>1</td>\n",
       "    </tr>\n",
       "    <tr>\n",
       "      <th>2</th>\n",
       "      <td>0</td>\n",
       "    </tr>\n",
       "    <tr>\n",
       "      <th>3</th>\n",
       "      <td>1</td>\n",
       "    </tr>\n",
       "    <tr>\n",
       "      <th>4</th>\n",
       "      <td>0</td>\n",
       "    </tr>\n",
       "    <tr>\n",
       "      <th>5</th>\n",
       "      <td>0</td>\n",
       "    </tr>\n",
       "    <tr>\n",
       "      <th>6</th>\n",
       "      <td>1</td>\n",
       "    </tr>\n",
       "    <tr>\n",
       "      <th>7</th>\n",
       "      <td>0</td>\n",
       "    </tr>\n",
       "    <tr>\n",
       "      <th>8</th>\n",
       "      <td>0</td>\n",
       "    </tr>\n",
       "    <tr>\n",
       "      <th>9</th>\n",
       "      <td>0</td>\n",
       "    </tr>\n",
       "    <tr>\n",
       "      <th>10</th>\n",
       "      <td>1</td>\n",
       "    </tr>\n",
       "    <tr>\n",
       "      <th>11</th>\n",
       "      <td>1</td>\n",
       "    </tr>\n",
       "    <tr>\n",
       "      <th>12</th>\n",
       "      <td>0</td>\n",
       "    </tr>\n",
       "    <tr>\n",
       "      <th>13</th>\n",
       "      <td>0</td>\n",
       "    </tr>\n",
       "    <tr>\n",
       "      <th>14</th>\n",
       "      <td>1</td>\n",
       "    </tr>\n",
       "  </tbody>\n",
       "</table>\n",
       "</div>"
      ],
      "text/plain": [
       "    y_true\n",
       "0        1\n",
       "1        1\n",
       "2        0\n",
       "3        1\n",
       "4        0\n",
       "5        0\n",
       "6        1\n",
       "7        0\n",
       "8        0\n",
       "9        0\n",
       "10       1\n",
       "11       1\n",
       "12       0\n",
       "13       0\n",
       "14       1"
      ]
     },
     "execution_count": 3,
     "metadata": {},
     "output_type": "execute_result"
    }
   ],
   "source": [
    "y_true1 = np.array([1,1,0,1,0,0,1,0,0,0,1,1,0,0,1])\n",
    "y_true = pd.DataFrame(y_true1,columns=[\"y_true\"])\n",
    "y_true"
   ]
  },
  {
   "cell_type": "code",
   "execution_count": 4,
   "id": "b4357574",
   "metadata": {},
   "outputs": [
    {
     "name": "stdout",
     "output_type": "stream",
     "text": [
      "True Positives: 5\n"
     ]
    }
   ],
   "source": [
    "def confuse(y_pred, y_true):\n",
    "    TN = 0  \n",
    "    for i in range(15):\n",
    "        if ((y_pred1[i] == 0) and y_true1[i] == 0):\n",
    "            TN = TN + 1\n",
    "    return TN\n",
    "TN = confuse(y_pred, y_true)\n",
    "print(\"True Positives:\", TN)"
   ]
  },
  {
   "cell_type": "code",
   "execution_count": 5,
   "id": "d731c540",
   "metadata": {},
   "outputs": [
    {
     "name": "stdout",
     "output_type": "stream",
     "text": [
      "True Positives: 6\n"
     ]
    }
   ],
   "source": [
    "def confuse(y_pred, y_true):\n",
    "    TP = 0  \n",
    "    for i in range(15):\n",
    "        if ((y_pred1[i] == 0.99) and y_true1[i] == 1):\n",
    "            TP = TP + 1\n",
    "    return TP\n",
    "TP = confuse(y_pred, y_true)\n",
    "print(\"True Positives:\", TP)"
   ]
  },
  {
   "cell_type": "code",
   "execution_count": 6,
   "id": "5598eafe",
   "metadata": {},
   "outputs": [
    {
     "name": "stdout",
     "output_type": "stream",
     "text": [
      "True Positives: 3\n"
     ]
    }
   ],
   "source": [
    "def confuse(y_pred, y_true):\n",
    "    FP = 0  \n",
    "    for i in range(15):\n",
    "        if ((y_pred1[i] == 0.99) and y_true1[i] == 0):\n",
    "            FP = FP + 1\n",
    "    return FP\n",
    "FP = confuse(y_pred, y_true)\n",
    "print(\"True Positives:\", FP)"
   ]
  },
  {
   "cell_type": "code",
   "execution_count": 7,
   "id": "77eee74a",
   "metadata": {},
   "outputs": [
    {
     "name": "stdout",
     "output_type": "stream",
     "text": [
      "True Positives: 1\n"
     ]
    }
   ],
   "source": [
    "def confuse(y_pred, y_true):\n",
    "    FN = 0  \n",
    "    for i in range(15):\n",
    "        if ((y_pred1[i] == 0) and y_true1[i] == 1):\n",
    "            FN = FN + 1\n",
    "    return FN\n",
    "FN = confuse(y_pred, y_true)\n",
    "print(\"True Positives:\", FN)"
   ]
  },
  {
   "cell_type": "markdown",
   "id": "8b0ae2a6",
   "metadata": {},
   "source": [
    "### for class 1:"
   ]
  },
  {
   "cell_type": "code",
   "execution_count": 8,
   "id": "8481decc",
   "metadata": {},
   "outputs": [
    {
     "data": {
      "text/plain": [
       "0.6666666666666666"
      ]
     },
     "execution_count": 8,
     "metadata": {},
     "output_type": "execute_result"
    }
   ],
   "source": [
    "precesion = TP/(TP+FP)\n",
    "precesion"
   ]
  },
  {
   "cell_type": "code",
   "execution_count": 9,
   "id": "70b986cc",
   "metadata": {},
   "outputs": [
    {
     "data": {
      "text/plain": [
       "0.8571428571428571"
      ]
     },
     "execution_count": 9,
     "metadata": {},
     "output_type": "execute_result"
    }
   ],
   "source": [
    "Recall = TP/(TP+FN)\n",
    "Recall"
   ]
  },
  {
   "cell_type": "code",
   "execution_count": 10,
   "id": "7c80c1ed",
   "metadata": {},
   "outputs": [
    {
     "data": {
      "text/plain": [
       "0.75"
      ]
     },
     "execution_count": 10,
     "metadata": {},
     "output_type": "execute_result"
    }
   ],
   "source": [
    "F1 = 2*precesion*Recall/(precesion + Recall)\n",
    "F1"
   ]
  },
  {
   "cell_type": "markdown",
   "id": "0cec09a5",
   "metadata": {},
   "source": [
    "### for class 0:"
   ]
  },
  {
   "cell_type": "code",
   "execution_count": 11,
   "id": "2470ba92",
   "metadata": {},
   "outputs": [
    {
     "data": {
      "text/plain": [
       "0.8333333333333334"
      ]
     },
     "execution_count": 11,
     "metadata": {},
     "output_type": "execute_result"
    }
   ],
   "source": [
    "pr = TN/(TN+FN)\n",
    "pr"
   ]
  },
  {
   "cell_type": "code",
   "execution_count": 12,
   "id": "28bf99e4",
   "metadata": {},
   "outputs": [
    {
     "data": {
      "text/plain": [
       "0.625"
      ]
     },
     "execution_count": 12,
     "metadata": {},
     "output_type": "execute_result"
    }
   ],
   "source": [
    "Re = TN/(TN+FP)\n",
    "Re"
   ]
  },
  {
   "cell_type": "code",
   "execution_count": 13,
   "id": "b54b3a92",
   "metadata": {},
   "outputs": [
    {
     "data": {
      "text/plain": [
       "0.7142857142857143"
      ]
     },
     "execution_count": 13,
     "metadata": {},
     "output_type": "execute_result"
    }
   ],
   "source": [
    "F1 = 2*pr*Re/(pr + Re)\n",
    "F1"
   ]
  },
  {
   "cell_type": "markdown",
   "id": "d28fb6f9",
   "metadata": {},
   "source": [
    "### Avg Accuracy:"
   ]
  },
  {
   "cell_type": "code",
   "execution_count": 14,
   "id": "3dea93ad",
   "metadata": {},
   "outputs": [
    {
     "data": {
      "text/plain": [
       "0.7333333333333333"
      ]
     },
     "execution_count": 14,
     "metadata": {},
     "output_type": "execute_result"
    }
   ],
   "source": [
    "ACC = (TP + TN)/(TP+TN+FP+FN)\n",
    "ACC"
   ]
  },
  {
   "cell_type": "markdown",
   "id": "d4ccc14a",
   "metadata": {},
   "source": [
    "### from SKLean"
   ]
  },
  {
   "cell_type": "code",
   "execution_count": 21,
   "id": "eeef360a",
   "metadata": {},
   "outputs": [
    {
     "name": "stdout",
     "output_type": "stream",
     "text": [
      "[[5 3]\n",
      " [1 6]]\n",
      "0.7333333333333333\n",
      "[0.83333333 0.66666667]\n",
      "[0.625      0.85714286]\n",
      "              precision    recall  f1-score   support\n",
      "\n",
      "           0       0.83      0.62      0.71         8\n",
      "           1       0.67      0.86      0.75         7\n",
      "\n",
      "    accuracy                           0.73        15\n",
      "   macro avg       0.75      0.74      0.73        15\n",
      "weighted avg       0.76      0.73      0.73        15\n",
      "\n"
     ]
    }
   ],
   "source": [
    "from sklearn.metrics import confusion_matrix\n",
    "from sklearn.metrics import accuracy_score\n",
    "from sklearn.metrics import f1_score\n",
    "from sklearn.metrics import precision_score\n",
    "from sklearn.metrics import recall_score\n",
    "from sklearn.metrics import classification_report\n",
    "\n",
    "y_pred1 = np.array([0.99,0,0,0.99,0,0,0.99,0.99,0.99,0,0.99,0.99,0,0.99,0.99])\n",
    "y_true1 = np.array([1,1,0,1,0,0,1,0,0,0,1,1,0,0,1])\n",
    "threshold = 0.5\n",
    "y_pred_binary = (y_pred1 >= threshold).astype(int)\n",
    "\n",
    "result = confusion_matrix(y_true1,y_pred_binary)\n",
    "print(result)\n",
    "accu_predicted = accuracy_score(y_true1,y_pred_binary)\n",
    "print(accu_predicted)\n",
    "precesion = precision_score(y_true1,y_pred_binary,average=None)\n",
    "print(precesion)\n",
    "recall = recall_score(y_true1,y_pred_binary,average=None)\n",
    "print(recall)\n",
    "report  = classification_report(y_true1,y_pred_binary)\n",
    "print(report)"
   ]
  },
  {
   "cell_type": "markdown",
   "id": "6962f6f6",
   "metadata": {},
   "source": [
    "### Applying Binary Cross Entropy"
   ]
  },
  {
   "cell_type": "code",
   "execution_count": 36,
   "id": "c46c74b5",
   "metadata": {},
   "outputs": [],
   "source": [
    "def BCE(y_pred, y_true):\n",
    "    epsilon = 1e-15\n",
    "    y_pred = np.clip(y_pred, epsilon, 1 - epsilon)\n",
    "    a = y_true * np.log(y_pred) + (1 - y_true) * np.log(1 - y_pred)\n",
    "    loss = -((1 / len(y_true)) * np.sum(a))\n",
    "    \n",
    "    return loss"
   ]
  },
  {
   "cell_type": "code",
   "execution_count": 37,
   "id": "bf4c146a",
   "metadata": {},
   "outputs": [
    {
     "name": "stdout",
     "output_type": "stream",
     "text": [
      "3.227639264533063\n"
     ]
    }
   ],
   "source": [
    "print(BCE(y_pred1,y_true1))"
   ]
  },
  {
   "cell_type": "code",
   "execution_count": null,
   "id": "1b95897d",
   "metadata": {},
   "outputs": [],
   "source": []
  }
 ],
 "metadata": {
  "kernelspec": {
   "display_name": "Python 3 (ipykernel)",
   "language": "python",
   "name": "python3"
  },
  "language_info": {
   "codemirror_mode": {
    "name": "ipython",
    "version": 3
   },
   "file_extension": ".py",
   "mimetype": "text/x-python",
   "name": "python",
   "nbconvert_exporter": "python",
   "pygments_lexer": "ipython3",
   "version": "3.11.3"
  }
 },
 "nbformat": 4,
 "nbformat_minor": 5
}
